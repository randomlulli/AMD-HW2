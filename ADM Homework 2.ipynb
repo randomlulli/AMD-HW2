{
 "cells": [
  {
   "cell_type": "markdown",
   "metadata": {},
   "source": [
    "## Homework 2 - eCommerce analytics\n",
    "E-commerce, also known as electronic commerce or internet commerce, refers to the buying and selling of goods or services using the internet, and the transfer of money and data to execute these transactions. The first e-commerce implementations date back to the 1990s and since then, millions of people every day visit some e-commerce sites to look for some product or service and, eventually, to purchase it.\n",
    "\n",
    "You have been hired as a data scientist from a big multi-category online store. You and your team have been required to perform an analysis of the customer behavior in the store. Each row in the dataset represents an event, which catches different interactions (views, a product added/removed to/from the cart, purchases) of customers with your e-commerce. All events are related to products and users.\n",
    "\n",
    "Your goal is to answer some research questions (RQs) that may help us discover and interpret meaningful patterns in data and eventually increase the number of sales."
   ]
  },
  {
   "cell_type": "markdown",
   "metadata": {},
   "source": [
    "## The beginning \n",
    "The importation of library and the reading of document"
   ]
  },
  {
   "cell_type": "code",
   "execution_count": null,
   "metadata": {},
   "outputs": [],
   "source": [
    "from collections import OrderedDict\n",
    "import pandas as pd\n",
    "import pandasql as ps\n",
    "import matplotlib.pyplot as plt\n",
    "from operator import itemgetter\n",
    "\n",
    "ds_Oct = pd.read_csv('D:/Storage file PC/Documenti/Università/Data Science/Anno 1/Semestre 1/Algorthmic\\\n",
    "     Methods of Data Mining/Homeworks/HW2/2019-Oct.csv', parse_dates=['event_time'], date_parser=pd.to_datetime)\n",
    "ds_Nov = pd.read_csv('D:/Storage file PC/Documenti/Università/Data Science/Anno 1/Semestre 1/Algorthmic \\\n",
    "    Methods of Data Mining/Homeworks/HW2/2019-Oct.csv', parse_dates=['event_time'], date_parser=pd.to_datetime)\n",
    "\n",
    "ds = pd.concat([ds_Oct, ds_Nov])\n"
   ]
  },
  {
   "cell_type": "markdown",
   "metadata": {},
   "source": [
    "# [RQ1]\n",
    "A marketing funnel describes your customer’s journey with your e-commerce.\n",
    "It may involve different stages, beginning when someone learns about your business, when he/she visits your website for the first time, to the purchasing stage, marketing funnels map routes to conversion and beyond. \\\n",
    "Suppose your funnel involves just three simple steps: 1) view, 2) cart, 3) purchase. \\\n",
    "Which is the rate of complete funnels?"
   ]
  },
  {
   "cell_type": "code",
   "execution_count": null,
   "metadata": {},
   "outputs": [],
   "source": [
    "ds_count_view = pd.DataFrame({'count_view' : ds[ds.event_type == 'view']\\\n",
    "                .groupby(['user_id', 'user_session'])['event_type']\\\n",
    "                .value_counts().sort_values(ascending=False)}).reset_index()\n",
    "\n",
    "ds_count_cart = pd.DataFrame({'count_cart' : ds[ds.event_type == 'cart']\\\n",
    "                .groupby(['user_id', 'user_session'])['event_type']\\\n",
    "                .value_counts().sort_values(ascending=False)}).reset_index()\n",
    "\n",
    "ds_count_purchase = pd.DataFrame({'count_purchase' : ds[ds.event_type == 'purchase']\\\n",
    "                    .groupby(['user_id', 'user_session'])['event_type']\\\n",
    "                    .value_counts().sort_values(ascending=False)}).reset_index()"
   ]
  },
  {
   "cell_type": "markdown",
   "metadata": {},
   "source": [
    "Merge view, cart and purchase"
   ]
  },
  {
   "cell_type": "code",
   "execution_count": null,
   "metadata": {},
   "outputs": [],
   "source": [
    "ds_count_event = ds_count_view[['user_id', 'user_session', 'count_view']]\\\n",
    "                .merge(ds_count_cart[['user_id', 'user_session', 'count_cart']],\\\n",
    "                 how = 'inner', on=['user_id', 'user_session'])[['user_id', 'user_session', 'count_view', 'count_cart']]\\\n",
    "                .merge(ds_count_purchase[['user_id', 'user_session', 'count_purchase']],\\\n",
    "                 how = 'inner', on=['user_id', 'user_session'])"
   ]
  },
  {
   "cell_type": "markdown",
   "metadata": {},
   "source": [
    "The number of complete funnels is rappresented by the number of tatal purchases on the number of total views."
   ]
  },
  {
   "cell_type": "code",
   "execution_count": null,
   "metadata": {},
   "outputs": [],
   "source": [
    "complete_funnels_rate = ds_count_purchase['count_purchase'].sum()*100/len(ds_count_view)\n",
    "print('The complete funnel rate is: ' + str(round(complete_funnels_rate, 2)) + \"%\")"
   ]
  },
  {
   "cell_type": "markdown",
   "metadata": {},
   "source": [
    "What’s the operation users repeat more on average within a session? Produce a plot that shows the average number of times users perform each operation (view/removefromchart etc etc)"
   ]
  },
  {
   "cell_type": "markdown",
   "metadata": {},
   "source": [
    "The dataframe created can also be used to print the plot for this question. \n",
    "In this case there is an operation that is not defined in the principal dataframe. This is the \"remove from cart\" operation. That can be calculated with the difference between purchase and cart.\n"
   ]
  },
  {
   "cell_type": "code",
   "execution_count": null,
   "metadata": {},
   "outputs": [],
   "source": [
    "values = ds_count_event.mean().to_list()[1:]\n",
    "values.append(values[-2]-values[-1])\n",
    "values = [ round(x) for x in values ]\n",
    "\n",
    "labels = ['view', 'cart', 'purchase', 'remove']\n",
    "explode = (0.05, 0, 0, 0)\n",
    "\n",
    "fig1, ax1 = plt.subplots()\n",
    "plt.rcParams['figure.figsize'] = (10, 10)\n",
    "ax1.pie(values,\n",
    "        explode=explode,\n",
    "        labels=labels,\n",
    "        autopct='%1.0f%%',\n",
    "        shadow=True,\n",
    "        startangle=180)\n",
    "ax1.axis('equal')\n",
    "\n",
    "plt.show()"
   ]
  },
  {
   "cell_type": "markdown",
   "metadata": {},
   "source": [
    "How many times, on average, a user views a product before adding it to the cart?"
   ]
  },
  {
   "cell_type": "code",
   "execution_count": null,
   "metadata": {},
   "outputs": [],
   "source": [
    "ds_cart = ds[ds.event_type == 'cart'][['user_id', 'user_session', 'product_id']]\\\n",
    "        .merge(pd.DataFrame({'views' : ds[ds.event_type == 'view']\\\n",
    "        .groupby(['user_id', 'user_session', 'product_id'])['event_type'].value_counts()\n",
    "                }).reset_index()[['user_id', 'user_session', 'product_id', 'views']],\\\n",
    "               how = 'inner', on=['user_id', 'user_session', 'product_id'])['views'].mean()\n",
    "\n",
    "print(\"An user views a product before adding it to cart for average \" + str(round(ds_cart)) + \" times\" )"
   ]
  },
  {
   "cell_type": "markdown",
   "metadata": {},
   "source": [
    "What’s the probability that products added once to the cart are effectively bought?"
   ]
  },
  {
   "cell_type": "code",
   "execution_count": null,
   "metadata": {},
   "outputs": [],
   "source": [
    "prob = round(ds_count_event.sum()['count_purchase']*100/ds_count_event.sum()['count_cart'], 2)\n",
    "\n",
    "print(\"The probability of products added once to the cart are bought is \" + str(prob) + \"%\")\n"
   ]
  },
  {
   "cell_type": "markdown",
   "metadata": {},
   "source": [
    "What’s the average time an item stays in the cart before being removed?"
   ]
  },
  {
   "cell_type": "markdown",
   "metadata": {},
   "source": [
    "The function for converting timedelta"
   ]
  },
  {
   "cell_type": "code",
   "execution_count": null,
   "metadata": {},
   "outputs": [],
   "source": [
    "def convert_timedelta(duration):\n",
    "    days, seconds = duration.days, duration.seconds\n",
    "    hours = days * 24 + seconds // 3600\n",
    "    minutes = (seconds % 3600) // 60\n",
    "    seconds = (seconds % 60)\n",
    "    return str(hours), str(minutes), str(seconds)\n",
    "\n",
    "ds_time = ds[ds.event_type == 'view'][['event_time', 'user_session', 'product_id']]\\\n",
    "            .merge(ds[ds.event_type == 'cart'][['event_time', 'user_session', 'product_id']],\\\n",
    "             on=['user_session', 'product_id'], how='inner', suffixes=('_v', '_c') )\\\n",
    "            .merge(ds[ds.event_type == 'purchase'][['event_time', 'user_session', 'product_id']],\\\n",
    "             on=['user_session', 'product_id'], how='inner').drop_duplicates(subset=['user_session', 'product_id'])    \n"
   ]
  },
  {
   "cell_type": "markdown",
   "metadata": {},
   "source": [
    "In our assumption a product removed is a product in cart not sold.\n",
    "In this case the delta-time between remove_from_cart and cart events is the delta-time between purchase and cart."
   ]
  },
  {
   "cell_type": "code",
   "execution_count": null,
   "metadata": {},
   "outputs": [],
   "source": [
    "val_rem = (ds_time['event_time'] - ds_time['event_time_c']).mean()\n",
    "\n",
    "val_conv_rem = convert_timedelta(val_rem)\n",
    "\n",
    "print(\"The delta time is \" + val_conv_rem[0] + \" hours, \" + val_conv_rem[1] + \" minutes and \" + val_conv_rem[2] + \" seconds\")\n"
   ]
  },
  {
   "cell_type": "markdown",
   "metadata": {},
   "source": [
    "How much time passes on average between the first view time and a purchase/addition to cart?"
   ]
  },
  {
   "cell_type": "markdown",
   "metadata": {},
   "source": [
    "The average delta time between the view operation and the cart or purchase one."
   ]
  },
  {
   "cell_type": "code",
   "execution_count": null,
   "metadata": {},
   "outputs": [],
   "source": [
    "val = pd.concat([(ds_time['event_time'] - ds_time['event_time_v']),\\\n",
    "        (ds_time['event_time_c'] - ds_time['event_time_v'])],\\\n",
    "        ignore_index = True).mean()\n",
    "\n",
    "val_conv = convert_timedelta(val)\n",
    "\n",
    "print(\"The delta time is \" + val_conv[0] + \" hours, \" + val_conv[1] + \" minutes and \" + val_conv[2] + \" seconds\")\n"
   ]
  },
  {
   "cell_type": "markdown",
   "metadata": {},
   "source": [
    "# [RQ2]\n",
    "What are the categories of the most trending products overall? \\\n",
    "For each month visualize this information through a plot showing the number of sold products per category.\n",
    "- Plot the most visited subcategories. \n",
    "- What are the 10 most sold products per category?"
   ]
  },
  {
   "cell_type": "markdown",
   "metadata": {},
   "source": [
    "In this request we have considered a subcategory like a category. A product can be in a category or subcategory (category of category) or can not have a category. \n",
    "Assume that the trending category is the subcategory with the highest number of products sold.\n",
    "In the output are escluded all nan category."
   ]
  },
  {
   "cell_type": "markdown",
   "metadata": {},
   "source": [
    "__Computating October month__"
   ]
  },
  {
   "cell_type": "markdown",
   "metadata": {},
   "source": [
    "The top 10 of category with the most popular products"
   ]
  },
  {
   "cell_type": "code",
   "execution_count": null,
   "metadata": {},
   "outputs": [],
   "source": [
    "ds_trending_category_oct = pd.DataFrame({'count_product_sold' : ds_Oct[ds_Oct.event_type == 'purchase']\\\n",
    "                                                    .groupby(['category_id', 'category_code'])\\\n",
    "                                                    ['event_type'].value_counts()\\\n",
    "                                                    .sort_values(ascending=False)}).reset_index()\n",
    "\n",
    "ds_trending_category_oct = ds_trending_category_oct.dropna().head(10)\n",
    "\n",
    "labels_prod_cat = [e.split('.')[-1] for e in list(ds_trending_category_oct['category_code'])]\n",
    "\n",
    "plt.figure(figsize=(20, 10))\n",
    "plt.bar(labels_prod_cat, ds_trending_category_oct['count_product_sold'])\n",
    "plt.xlabel('Category', fontsize=15)\n",
    "plt.ylabel('Number of sold product', fontsize=15)\n",
    "plt.title('Top 10 trending category of october', fontsize=20)\n",
    "plt.show()"
   ]
  },
  {
   "cell_type": "markdown",
   "metadata": {},
   "source": [
    "The top 10 of category with the highest number of views"
   ]
  },
  {
   "cell_type": "code",
   "execution_count": null,
   "metadata": {},
   "outputs": [],
   "source": [
    "s_most_viewed_category_oct = pd.DataFrame({'count_view' : ds_Oct[ds_Oct.event_type == 'view']\\\n",
    "                                                    .groupby(['category_id', 'category_code'])\\\n",
    "                                                    ['event_type'].value_counts()\\\n",
    "                                                    .sort_values(ascending=False)}).reset_index()\n",
    "\n",
    "ds_most_viewed_category_oct = ds_most_viewed_category_oct.dropna().head(10)\n",
    "\n",
    "labels_most_viewed = [e.split('.')[-1].replace('_', ' ') for e in list(ds_most_viewed_category_oct['category_code'])]\n",
    "\n",
    "plt.figure(figsize=(20, 10))\n",
    "plt.bar(labels_most_viewed, ds_most_viewed_category_oct['count_view'])\n",
    "plt.xlabel('Category', fontsize=15)\n",
    "plt.ylabel('Number of views', fontsize=15)\n",
    "plt.title('Top 10 of most viewed category', fontsize=20)\n",
    "plt.show()"
   ]
  },
  {
   "cell_type": "markdown",
   "metadata": {},
   "source": [
    "The 10 (or less) most sold products for category."
   ]
  },
  {
   "cell_type": "code",
   "execution_count": null,
   "metadata": {},
   "outputs": [],
   "source": [
    "categories = set(ds_Oct[ds_Oct.event_type == 'purchase']['category_code'].dropna())\n",
    "\n",
    "for c in categories:\n",
    "    x = ds_Oct[(ds_Oct.category_code == c) & (ds_Oct.event_type=='purchase')].loc[:, 'product_id'].value_counts().head(10).to_string()\n",
    "    print('''The 10 (or less) most sold product for ''' + c.split('.')[-1].replace('_', ' '))\n",
    "    print(x)\n"
   ]
  },
  {
   "cell_type": "markdown",
   "metadata": {},
   "source": [
    "__Computating November month__"
   ]
  },
  {
   "cell_type": "markdown",
   "metadata": {},
   "source": [
    "The top 10 of category with the most popular products"
   ]
  },
  {
   "cell_type": "code",
   "execution_count": null,
   "metadata": {},
   "outputs": [],
   "source": [
    "ds_trending_category_nov = pd.DataFrame({'count_product_sold' : ds_Nov[ds_Nov.event_type == 'purchase']\\\n",
    "                                                    .groupby(['category_id', 'category_code'])\\\n",
    "                                                    ['event_type'].value_counts()\\\n",
    "                                                    .sort_values(ascending=False)}).reset_index()\n",
    "\n",
    "ds_trending_category_nov = ds_trending_category_nov.dropna().head(10)\n",
    "\n",
    "labels_prod_cat = [e.split('.')[-1] for e in list(ds_trending_category_nov['category_code'])]\n",
    "\n",
    "plt.figure(figsize=(20, 10))\n",
    "plt.bar(labels_prod_cat, ds_trending_category_nov['count_product_sold'])\n",
    "plt.xlabel('Category', fontsize=15)\n",
    "plt.ylabel('Number of sold product', fontsize=15)\n",
    "plt.title('Top 10 trending category of october', fontsize=20)\n",
    "plt.show()"
   ]
  },
  {
   "cell_type": "markdown",
   "metadata": {},
   "source": [
    "The top 10 of category with the highest number of views"
   ]
  },
  {
   "cell_type": "code",
   "execution_count": null,
   "metadata": {},
   "outputs": [],
   "source": [
    "ds_most_viewed_category_nov = pd.DataFrame({'count_view' : ds_Nov[ds_Nov.event_type == 'view']\\\n",
    "                                                    .groupby(['category_id', 'category_code'])\\\n",
    "                                                    ['event_type'].value_counts()\\\n",
    "                                                    .sort_values(ascending=False)}).reset_index()\n",
    "\n",
    "ds_most_viewed_category_nov = ds_most_viewed_category_nov.dropna().head(10)\n",
    "\n",
    "labels_most_viewed = [e.split('.')[-1].replace('_', ' ') for e in list(ds_most_viewed_category_nov['category_code'])]\n",
    "\n",
    "plt.figure(figsize=(20, 10))\n",
    "plt.bar(labels_most_viewed, ds_most_viewed_category_nov['count_view'])\n",
    "plt.xlabel('Category', fontsize=15)\n",
    "plt.ylabel('Number of views', fontsize=15)\n",
    "plt.title('Top 10 of most viewed category', fontsize=20)\n",
    "plt.show()"
   ]
  },
  {
   "cell_type": "markdown",
   "metadata": {},
   "source": [
    "The 10 (or less) most sold products for category"
   ]
  },
  {
   "cell_type": "code",
   "execution_count": null,
   "metadata": {},
   "outputs": [],
   "source": [
    "categories = set(ds_Nov[ds_Nov.event_type == 'purchase']['category_code'].dropna())\n",
    "\n",
    "for c in categories:\n",
    "    x = ds_Nov[(ds_Nov.category_code == c) & (ds_Nov.event_type=='purchase')]\\\n",
    "        .loc[:, 'product_id'].value_counts().head(10).to_string()\n",
    "    print('''The 10 (or less) most sold product for ''' + c.split('.')[-1].replace('_', ' '))\n",
    "    print(x)"
   ]
  },
  {
   "cell_type": "markdown",
   "metadata": {},
   "source": [
    "# [RQ3]\n",
    "For each category, what’s the brand whose prices are higher on average?"
   ]
  },
  {
   "cell_type": "code",
   "execution_count": null,
   "metadata": {},
   "outputs": [],
   "source": [
    "ds_expensive_brand = pd.DataFrame({'avg_price' : ds.groupby(['category_id', 'category_code', 'brand'])\\\n",
    "                                                    ['price'].mean()\\\n",
    "                                                    .sort_values(ascending=False)}\\\n",
    "                                    ).reset_index()\n",
    "\n",
    "all_cat = list()\n",
    "for c in ds_expensive_brand.category_code:\n",
    "    if c not in all_cat:\n",
    "        all_cat.append(c)\n",
    "\n",
    "for c in all_cat:\n",
    "    b = ds_expensive_brand[(ds_expensive_brand.category_code == c)]['brand']\\\n",
    "        .dropna().head(1).to_string(index=False).strip()\n",
    "    print(c.split('.')[-1].replace('_', ' ') + ': ' + b)"
   ]
  },
  {
   "cell_type": "markdown",
   "metadata": {},
   "source": [
    "Write a function that asks the user a category in input and returns a plot indicating the average price of the products sold by the brand."
   ]
  },
  {
   "cell_type": "code",
   "execution_count": null,
   "metadata": {},
   "outputs": [],
   "source": [
    "def brand_status():\n",
    "    c = input().strip()\n",
    "\n",
    "    d = pd.DataFrame({'avg_price' : ds[(ds.category_code == c) & (ds.event_type == 'purchase')].groupby('brand')['price'].mean()}).reset_index()\n",
    "\n",
    "    plt.figure(figsize=(20, 10))\n",
    "    plt.bar(d.brand, d.avg_price)\n",
    "    plt.xticks(rotation='vertical')\n",
    "    plt.xlabel('Brand', fontsize=15)\n",
    "    plt.ylabel('Average price of products', fontsize = 15)\n",
    "    plt.title('Average price  of products for ' + c.split('.')[-1].replace('_',' '), fontsize=20)\n",
    "    plt.show()\n",
    "\n",
    "brand_status()"
   ]
  },
  {
   "cell_type": "markdown",
   "metadata": {},
   "source": [
    "Find, for each category, the brand with the highest average price.\n",
    "Return all the results in ascending order by price."
   ]
  },
  {
   "cell_type": "code",
   "execution_count": null,
   "metadata": {},
   "outputs": [],
   "source": [
    "l = []\n",
    "for c in all_cat:\n",
    "    l += [(c, ds_expensive_brand[ds_expensive_brand.category_code == c]['brand'].head(1).to_string(index=False).strip())]\n",
    "for e in sorted(l, key=lambda tup: tup[1]):\n",
    "    print(e[0].split('.')[-1].replace('_', ' ') + ': ' + e[1])"
   ]
  },
  {
   "cell_type": "markdown",
   "metadata": {},
   "source": [
    "# [RQ4]\n",
    "How much does each brand earn per month?\n",
    "Write a function that given the name of a brand in input returns, for each month, its profit."
   ]
  },
  {
   "cell_type": "markdown",
   "metadata": {},
   "source": [
    "An economic profit or loss is the difference between the revenue received from the sale of an output and the costs of all inputs used.\n",
    "We don't have sufficient information to do that. For that reason we mean the profit as a sum of money received by purchasing products."
   ]
  },
  {
   "cell_type": "code",
   "execution_count": null,
   "metadata": {},
   "outputs": [],
   "source": [
    "def brand_profit(brand):\n",
    "    o = ds_Oct.loc[ds_Oct['event_type']=='purchase'].groupby(ds_Oct.brand)['price'].sum()[brand]\n",
    "    n = ds_Nov.loc[ds_Nov['event_type']=='purchase'].groupby(ds_Nov.brand)['price'].sum()[brand]\n",
    "    return o, n"
   ]
  },
  {
   "cell_type": "markdown",
   "metadata": {},
   "source": [
    "This function below can be used to print the result of the previous function with a good presentation"
   ]
  },
  {
   "cell_type": "code",
   "execution_count": null,
   "metadata": {},
   "outputs": [],
   "source": [
    "def print_brand_profit():\n",
    "    b = input().strip()\n",
    "    o, n = brand_profit(b)\n",
    "    print('Profit for october is ' + str(o))\n",
    "    print('Profit for november is ' + str(n))\n",
    "\n",
    "print_brand_profit()"
   ]
  },
  {
   "cell_type": "markdown",
   "metadata": {},
   "source": [
    "Is the average price of products of different brands significantly different?"
   ]
  },
  {
   "cell_type": "markdown",
   "metadata": {},
   "source": [
    "To answer this question we can print for each category the average price of products from differents brands"
   ]
  },
  {
   "cell_type": "code",
   "execution_count": null,
   "metadata": {},
   "outputs": [],
   "source": [
    "for c in all_cat:\n",
    "    x = ds_expensive_brand[['brand', 'avg_price']].loc[(ds_expensive_brand.category_code==c)]\n",
    "    print(c.split('.')[1].replace('_', ' ') + ': \\n' +  x.to_string(index=False, col_space=15))\n"
   ]
  },
  {
   "cell_type": "markdown",
   "metadata": {},
   "source": [
    "Using the function you just created, find the top 3 brands that have suffered the biggest losses in earnings between one month and the next, specifing both the loss percentage and the 2 months (e.g., brand_1 lost 20% between march and april)."
   ]
  },
  {
   "cell_type": "code",
   "execution_count": null,
   "metadata": {},
   "outputs": [],
   "source": [
    "brands = set(ds['brand'].loc[ds['event_type']=='purchase'].dropna())"
   ]
  },
  {
   "cell_type": "markdown",
   "metadata": {},
   "source": [
    "The function must print the 3 cases of brands which they have a loss in the following month. (profit of november is less then october)\n",
    "If there is the same value for one position returns the last one.\n",
    "We assume that there are at least 3 brands at a loss."
   ]
  },
  {
   "cell_type": "code",
   "execution_count": null,
   "metadata": {},
   "outputs": [],
   "source": [
    "v = [-1, -1, -1]\n",
    "b = ['', '', '']\n",
    "\n",
    "for brand in brands:\n",
    "    o, n = brand_profit(brand)\n",
    "    p = -1\n",
    "    if n <= o : p = ((o-n)*100)/o\n",
    "    for i in range(3):\n",
    "        if p >= v[i]:\n",
    "            b[i] = brand\n",
    "            v[i] = p\n",
    "            break\n",
    "\n",
    "print(b[0] + ' lost ' + str(v[0]) + '%' + ' between october and november')\n",
    "print(b[1] + ' lost ' + str(v[1]) + '%' + ' between october and november')\n",
    "print(b[2] + ' lost ' + str(v[2]) + '%' + ' between october and november')"
   ]
  },
  {
   "cell_type": "markdown",
   "metadata": {},
   "source": [
    "# [RQ5]\n",
    "In what part of the day is your store most visited? \n",
    "Knowing which days of the week or even which hours of the day shoppers are likely to visit your online store and make a purchase may help you improve your strategies. Create a plot that for each day of the week show the hourly average of visitors your store has."
   ]
  },
  {
   "cell_type": "markdown",
   "metadata": {},
   "source": [
    "The code below prints a plot with the average of views for each day of the week"
   ]
  },
  {
   "cell_type": "code",
   "execution_count": null,
   "metadata": {},
   "outputs": [],
   "source": [
    "mon = ds[(ds.event_type == 'view') & (ds.event_time.dt.day == 0)]\\\n",
    "        .loc[:, 'event_type'].value_counts().mean()\n",
    "\n",
    "tue = ds[(ds.event_type == 'view') & (ds.event_time.dt.day == 1)]\\\n",
    "        .loc[:, 'event_type'].value_counts().mean()\n",
    "\n",
    "wed = ds[(ds.event_type == 'view') & (ds.event_time.dt.day == 2)]\\\n",
    "        .loc[:, 'event_type'].value_counts().mean()\n",
    "\n",
    "thu = ds[(ds.event_type == 'view') & (ds.event_time.dt.day == 3)]\\\n",
    "        .loc[:, 'event_type'].value_counts().mean()\n",
    "\n",
    "fri = ds[(ds.event_type == 'view') & (ds.event_time.dt.day == 4)]\\\n",
    "        .loc[:, 'event_type'].value_counts().mean()\n",
    "\n",
    "sat = ds[(ds.event_type == 'view') & (ds.event_time.dt.day == 5)]\\\n",
    "        .loc[:, 'event_type'].value_counts().mean()\n",
    "\n",
    "sun = ds[(ds.event_type == 'view') & (ds.event_time.dt.day == 6)]\\\n",
    "        .loc[:, 'event_type'].value_counts().mean()\n",
    "\n",
    "plt.figure(figsize=(20, 10))\n",
    "plt.bar(['Monday', 'Tuesday', 'Wednesday', 'Thursday', 'Friday', 'Saturday', 'Sunday'], [mon, tue, wed, thu, fri, sat, sun])\n",
    "plt.xlabel('Days of week', fontsize=15)\n",
    "plt.ylabel('Average number of views', fontsize=15)\n",
    "plt.title('Week views', fontsize=20)\n",
    "plt.show()"
   ]
  },
  {
   "cell_type": "markdown",
   "metadata": {},
   "source": [
    "The code below prints a plot with the average of views for each hour"
   ]
  },
  {
   "cell_type": "code",
   "execution_count": null,
   "metadata": {},
   "outputs": [],
   "source": [
    "hours_label = [str(i) for i in range(24)]\n",
    "hours_values = []\n",
    "\n",
    "for h in range(24):\n",
    "    hours_values.append(ds[(ds.event_type=='view') & (ds.event_time.dt.hour == h)].loc[:, 'event_type'].value_counts().mean())\n",
    "\n",
    "plt.figure(figsize=(30, 10))\n",
    "plt.plot_date(hours_label, hours_values)\n",
    "plt.plot(hours_label, hours_values)\n",
    "plt.xlabel('Hours', fontsize=15)\n",
    "plt.ylabel('Average number of views', fontsize=15)\n",
    "plt.title('Hours views', fontsize=20)\n",
    "plt.show()\n"
   ]
  },
  {
   "cell_type": "markdown",
   "metadata": {},
   "source": [
    "In the function below an user can input a day of week (ex: 'monday') and receive an \"Hours view\" plot for that day of week"
   ]
  },
  {
   "cell_type": "code",
   "execution_count": null,
   "metadata": {},
   "outputs": [],
   "source": [
    "def dayweek_hours_views():\n",
    "\n",
    "    d = input().strip().lower().capitalize()\n",
    "\n",
    "    hours_label = [str(i) for i in range(24)]\n",
    "    hours_values = []\n",
    "\n",
    "    for h in range(24):\n",
    "        hours_values.append(ds[(ds.event_time.dt.day_name()==d) & (ds.event_type=='view') & (ds.event_time.dt.hour == h)]\\\n",
    "            .loc[:, 'event_type'].value_counts().mean())\n",
    "\n",
    "    plt.figure(figsize=(20, 10))\n",
    "    plt.plot(hours_label, hours_values)\n",
    "    plt.plot_date(hours_label, hours_values)\n",
    "    plt.xlabel('Hours', fontsize=15)\n",
    "    plt.ylabel('Average number of views', fontsize=15)\n",
    "    plt.title('Hours views of ' + d, fontsize=20)\n",
    "    plt.show()"
   ]
  },
  {
   "cell_type": "markdown",
   "metadata": {},
   "source": [
    "# [RQ6]\n",
    "The conversion rate of a product is given by the purchase rate over the number of times the product has been visited.\n",
    "What's the conversion rate of your online store?"
   ]
  },
  {
   "cell_type": "markdown",
   "metadata": {},
   "source": [
    "Find the overall conversion rate of your store."
   ]
  },
  {
   "cell_type": "markdown",
   "metadata": {},
   "source": [
    "The conversion rate represents that value, expressed as a percentage, which summarizes the ability of your web pages to transform visitors into customers."
   ]
  },
  {
   "cell_type": "code",
   "execution_count": null,
   "metadata": {},
   "outputs": [],
   "source": [
    "total_views = int(ds[ds.event_type == 'view'].loc[:, 'event_type'].value_counts())\n",
    "total_purchase = int(ds[ds.event_type == 'purchase'].loc[:, 'event_type'].value_counts())\n",
    "\n",
    "print('The conversion rate of the store is ' + str(total_purchase*100/total_views) + \"%\")\n"
   ]
  },
  {
   "cell_type": "markdown",
   "metadata": {},
   "source": [
    "Plot the purchase rate of each category and show the conversion rate of each category in decreasing order."
   ]
  },
  {
   "cell_type": "code",
   "execution_count": null,
   "metadata": {},
   "outputs": [],
   "source": [
    "ds_purchase = pd.DataFrame({'purchases' : ds[(ds.event_type=='purchase')]\\\n",
    "    .groupby(['category_code'])['event_type'].value_counts()}).reset_index()\n",
    "\n",
    "ds_view = pd.DataFrame({'views' : ds[(ds.event_type=='view')]\\\n",
    "    .groupby(['category_code'])['event_type'].value_counts()}).reset_index()\n",
    "\n",
    "cat_purchase = ds_purchase['category_code'].dropna().to_list()\n",
    "cat_rate = OrderedDict()\n",
    "\n",
    "for cat in cat_purchase:\n",
    "    v = int(ds_view[ds_view.category_code == cat]['views'])\n",
    "    p = int(ds_purchase[ds_purchase.category_code == cat]['purchases'])\n",
    "    cat_rate[cat] = p*100/v\n",
    "\n",
    "dict_rate= OrderedDict(sorted(cat_rate.items(), key=itemgetter(1), reverse = True))\n",
    "\n",
    "\n",
    "plt.figure(figsize=(int(len(cat_purchase)//8), int(len(cat_purchase)//5)))\n",
    "plt.barh([ e.split('.')[-1].replace('_', ' ') for e in dict_rate.keys() ], dict_rate.values())\n",
    "plt.gca().invert_yaxis()\n",
    "plt.xlabel('Percentage values of conversion rate', fontsize=int(len(cat_purchase)//8))\n",
    "plt.ylabel('Categories', fontsize=int(len(cat_purchase)//8))\n",
    "plt.title('Conversion rate of categories', fontsize=int((len(cat_purchase)//5)))\n",
    "plt.show()"
   ]
  },
  {
   "cell_type": "markdown",
   "metadata": {},
   "source": [
    "# [RQ7]\n",
    "The Pareto principle states that for many outcomes roughly 80% of consequences come from 20% of the causes. Also known as 80/20 rule, in e-commerce simply means that most of your business, around 80%, likely comes from about 20% of your customers.\n",
    "Prove that the pareto principle applies to your store."
   ]
  },
  {
   "cell_type": "code",
   "execution_count": null,
   "metadata": {},
   "outputs": [],
   "source": [
    "def truncate(n):\n",
    "    n = str(n).replace('',' ').split()\n",
    "    n.reverse()\n",
    "    for i in range(1, len(n)):\n",
    "        v = int(n[i])\n",
    "        if int(n[i-1]) >= 5:\n",
    "            n[i] = str(v+1)\n",
    "    n.reverse()\n",
    "    return int(n[0] + '0'*(len(n)-1))\n",
    "\n",
    "ds_group_user = ds[ds.event_type == 'purchase']\\\n",
    "    .groupby(ds.user_id)['price'].sum().sort_values(ascending=False)\n",
    "\n",
    "total_user = int(len(ds_group_user))\n",
    "user20 = (int(total_user)//100)*20\n",
    "total_business= round(int(ds_group_user.sum()))\n",
    "business80 = (int(total_business)//100)*80\n",
    "business_user20 = round(int(ds_group_user.head(user20).sum()))\n",
    "\n",
    "\n",
    "if truncate(business80) == truncate(business_user20):\n",
    "    print('The Pareto principle is proved')\n",
    "else:\n",
    "    print(\"The Pareto principle isn't proved\")"
   ]
  }
 ],
 "metadata": {
  "kernelspec": {
   "display_name": "Python 3",
   "language": "python",
   "name": "python3"
  },
  "language_info": {
   "codemirror_mode": {
    "name": "ipython",
    "version": 3
   },
   "file_extension": ".py",
   "mimetype": "text/x-python",
   "name": "python",
   "nbconvert_exporter": "python",
   "pygments_lexer": "ipython3",
   "version": "3.8.3"
  }
 },
 "nbformat": 4,
 "nbformat_minor": 4
}
